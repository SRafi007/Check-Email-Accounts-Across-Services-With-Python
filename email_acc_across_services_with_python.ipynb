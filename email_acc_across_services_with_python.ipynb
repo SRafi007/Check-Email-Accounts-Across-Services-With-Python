{
  "nbformat": 4,
  "nbformat_minor": 0,
  "metadata": {
    "colab": {
      "provenance": []
    },
    "kernelspec": {
      "name": "python3",
      "display_name": "Python 3"
    },
    "language_info": {
      "name": "python"
    }
  },
  "cells": [
    {
      "cell_type": "markdown",
      "source": [
        "# **Check Email Accounts Across Services With Python**📧 🐍"
      ],
      "metadata": {
        "id": "Vy8RwYAe6ts3"
      }
    },
    {
      "cell_type": "code",
      "execution_count": null,
      "metadata": {
        "id": "3B_7XT8ix61Y"
      },
      "outputs": [],
      "source": [
        "pip install holehe\n",
        "\n",
        "#Holehe is a tool that checks if an email is registered on various websites without triggering the security or alert mechanisms on those sites\n",
        "#This tool is used mainly for security research, OSINT (Open-Source Intelligence), and for penetration testing purposes to understand where a particular email has been used to sign up.\n"
      ]
    },
    {
      "cell_type": "markdown",
      "source": [
        "# Features:\n",
        "* Email enumeration: It checks a variety of websites to determine whether an email is registered there.\n",
        "* Automated: No need to manually check websites; holehe automates the process.\n",
        "* OSINT tool: Useful for ethical hacking and gathering public information during reconnaissance."
      ],
      "metadata": {
        "id": "pHEsHoScyFxE"
      }
    },
    {
      "cell_type": "code",
      "source": [
        "import subprocess\n",
        "\n",
        "def check_email(email):\n",
        "    result = subprocess.run([\"holehe\", email], capture_output=True, text=True)\n",
        "\n",
        "    return result.stdout\n",
        "\n",
        "email = input(\"Enter Your Email Address: \")\n",
        "\n",
        "response = check_email(email)\n",
        "print(response)\n"
      ],
      "metadata": {
        "id": "_NRHWITHyN9L"
      },
      "execution_count": null,
      "outputs": []
    },
    {
      "cell_type": "markdown",
      "source": [
        "# **Output**\n",
        "\n",
        "---\n",
        "\n",
        "\n",
        "Enter Your Email Address: rafi.example@gmail.com\n",
        "\n",
        "\n",
        "****************************\n",
        "   rafi.example@gmail.com\n",
        "****************************\n",
        "[x] about.me\n",
        "\n",
        "[x] adobe.com\n",
        "\n",
        "[-] amazon.com\n",
        "\n",
        "[x] amocrm.com\n",
        "\n",
        "[-] any.do\n",
        "\n",
        "[-] archive.org\n",
        "\n",
        "[-] armurerie-auxerre.com\n",
        "\n",
        "[x] atlassian.com\n",
        "\n",
        "[-] axonaut.com\n",
        "\n",
        "......\n",
        "121 websites checked in 10.16 seconds\n",
        "\n",
        "\n",
        "\n",
        "\n",
        "\n",
        "---\n",
        "\n",
        "Here\n",
        "[x] Rate Limit\n",
        "\n",
        "[+] Email Used\n",
        "\n",
        "[-] Email Not Used\n"
      ],
      "metadata": {
        "id": "-hjO5S0nzNvh"
      }
    },
    {
      "cell_type": "markdown",
      "source": [],
      "metadata": {
        "id": "PoVUPPLV5XqW"
      }
    },
    {
      "cell_type": "code",
      "source": [
        "import subprocess  # Importing the subprocess module to run external commands in the Python script.\n",
        "\n",
        "# Function to check if an email is registered on websites using the holehe tool.\n",
        "def check_email(email):\n",
        "    # Running the \"holehe\" command-line tool with the provided email using subprocess.\n",
        "    # The subprocess.run method is used to run the command, capturing the output and error (if any).\n",
        "    # capture_output=True captures the output from the command, and text=True ensures that the output is returned as a string.\n",
        "    result = subprocess.run([\"holehe\", email], capture_output=True, text=True)\n",
        "\n",
        "    # Returning the standard output (stdout) of the command which contains the results of the holehe check.\n",
        "    return result.stdout\n",
        "\n",
        "# Taking the user's email address as input from the command line.\n",
        "email = input(\"Enter Your Email Address: \")\n",
        "\n",
        "# Calling the check_email function with the user's inputted email and storing the response.\n",
        "response = check_email(email)\n",
        "\n",
        "# Printing the result of the holehe email check to the console.\n",
        "print(response)\n",
        "\n",
        "\n",
        "\n",
        "\n",
        "#subprocess module, which allows running external programs like holehe from within Python.\n",
        "#capture_output=True: Captures both stdout and stderr (in case of errors)."
      ],
      "metadata": {
        "id": "PG_0iVpf0xAE"
      },
      "execution_count": null,
      "outputs": []
    },
    {
      "cell_type": "code",
      "source": [
        "#Enhanced Code\n",
        "\n",
        "\n",
        "import subprocess  # For running external commands\n",
        "import re          # For validating email format\n",
        "import logging     # For logging results\n",
        "import threading   # For parallel email checking\n",
        "\n",
        "# Set up logging to store the results in a file\n",
        "logging.basicConfig(filename='holehe_results.log', level=logging.INFO, format='%(asctime)s - %(message)s')\n",
        "\n",
        "# Function to validate email format\n",
        "def is_valid_email(email):\n",
        "    # Simple regex for validating email format\n",
        "    email_regex = r'^[a-zA-Z0-9_.+-]+@[a-zA-Z0-9-]+\\.[a-zA-Z0-9-.]+$'\n",
        "    return re.match(email_regex, email) is not None\n",
        "\n",
        "# Function to check if an email is registered on websites using holehe with error handling and timeout\n",
        "def check_email(email):\n",
        "    # Check if email is valid\n",
        "    if not is_valid_email(email):\n",
        "        logging.error(f\"Invalid email format: {email}\")\n",
        "        return f\"Error: Invalid email format: {email}\"\n",
        "\n",
        "    try:\n",
        "        # Running holehe with a timeout of 30 seconds\n",
        "        result = subprocess.run(\n",
        "            [\"holehe\", email], capture_output=True, text=True, timeout=30\n",
        "        )\n",
        "\n",
        "        # Log the results into the log file\n",
        "        logging.info(f\"Checked email: {email}\")\n",
        "        logging.info(f\"Result:\\n{result.stdout}\")\n",
        "\n",
        "        # Return the standard output containing the results\n",
        "        return result.stdout\n",
        "\n",
        "    except subprocess.TimeoutExpired:\n",
        "        # Handle the case where holehe takes too long to respond\n",
        "        logging.error(f\"Timeout expired for email: {email}\")\n",
        "        return f\"Error: Timeout expired for email: {email}\"\n",
        "\n",
        "    except FileNotFoundError:\n",
        "        # Handle the case where holehe is not installed or not found\n",
        "        logging.error(f\"holehe not found. Make sure it is installed and in your PATH.\")\n",
        "        return \"Error: holehe not found. Make sure it is installed and in your PATH.\"\n",
        "\n",
        "    except Exception as e:\n",
        "        # Handle any other unexpected errors\n",
        "        logging.error(f\"An error occurred: {e}\")\n",
        "        return f\"Error: An unexpected error occurred: {str(e)}\"\n",
        "\n",
        "# Function to check multiple emails in parallel (bulk email checking)\n",
        "def check_emails_in_bulk(email_list):\n",
        "    threads = []  # List to hold threads\n",
        "\n",
        "    for email in email_list:\n",
        "        # Create a new thread for each email check\n",
        "        t = threading.Thread(target=check_and_print_email, args=(email,))\n",
        "        threads.append(t)\n",
        "        t.start()\n",
        "\n",
        "    # Wait for all threads to complete\n",
        "    for t in threads:\n",
        "        t.join()\n",
        "\n",
        "# Helper function to check email and print the response (used in multi-threading)\n",
        "def check_and_print_email(email):\n",
        "    response = check_email(email)\n",
        "    print(f\"Results for {email}:\\n{response}\")\n",
        "\n",
        "# Main function to run the program\n",
        "def main():\n",
        "    email_list = input(\"Enter a list of email addresses (comma-separated): \").split(',')\n",
        "    email_list = [email.strip() for email in email_list]  # Clean up whitespaces\n",
        "\n",
        "    if len(email_list) == 1:\n",
        "        # If there's only one email, just check it normally\n",
        "        response = check_email(email_list[0])\n",
        "        print(response)\n",
        "    else:\n",
        "        # For multiple emails, check them in parallel\n",
        "        check_emails_in_bulk(email_list)\n",
        "\n",
        "if __name__ == \"__main__\":\n",
        "    main()\n"
      ],
      "metadata": {
        "id": "8fK_M1Tq42Mj"
      },
      "execution_count": null,
      "outputs": []
    },
    {
      "cell_type": "markdown",
      "source": [
        "# **Output**\n",
        "\n",
        "---\n",
        "\n",
        "\n",
        "Enter Your Email Address: rafi.example@gmail.com\n",
        "\n",
        "\n",
        "****************************\n",
        "   rafi.example@gmail.com\n",
        "****************************\n",
        "[x] about.me\n",
        "\n",
        "[x] adobe.com\n",
        "\n",
        "[-] amazon.com\n",
        "\n",
        "[x] amocrm.com\n",
        "\n",
        "[-] any.do\n",
        "\n",
        "[-] archive.org\n",
        "\n",
        "[-] armurerie-auxerre.com\n",
        "\n",
        "[x] atlassian.com\n",
        "\n",
        "[-] axonaut.com\n",
        "\n",
        "......\n",
        "121 websites checked in 10.16 seconds\n",
        "\n",
        "\n",
        "\n",
        "\n",
        "\n",
        "---\n",
        "\n",
        "Here\n",
        "[x] Rate Limit\n",
        "\n",
        "[+] Email Used\n",
        "\n",
        "[-] Email Not Used\n"
      ],
      "metadata": {
        "id": "WCPlvQRH5ZlV"
      }
    }
  ]
}